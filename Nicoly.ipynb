{
  "nbformat": 4,
  "nbformat_minor": 0,
  "metadata": {
    "colab": {
      "provenance": [],
      "authorship_tag": "ABX9TyPos1eH65/IpM89mzswgP0f",
      "include_colab_link": true
    },
    "kernelspec": {
      "name": "python3",
      "display_name": "Python 3"
    },
    "language_info": {
      "name": "python"
    }
  },
  "cells": [
    {
      "cell_type": "markdown",
      "metadata": {
        "id": "view-in-github",
        "colab_type": "text"
      },
      "source": [
        "<a href=\"https://colab.research.google.com/github/nick6328/Banco-de-Dados-2/blob/main/Nicoly.ipynb\" target=\"_parent\"><img src=\"https://colab.research.google.com/assets/colab-badge.svg\" alt=\"Open In Colab\"/></a>"
      ]
    },
    {
      "cell_type": "code",
      "execution_count": null,
      "metadata": {
        "id": "M3H7lwvH5h9z"
      },
      "outputs": [],
      "source": []
    },
    {
      "cell_type": "code",
      "source": [
        "\n",
        "# Importa a biblioteca para trabalhar com bancos de dados SQLite.\n",
        "import sqlite3\n",
        "\n",
        "# Conecta ao banco de dados (ou criar se não existir)\n",
        "conn = sqlite3.connect('clientes.db')\n",
        "\n",
        "# O método .cursor() cria um objeto chamado \"cursor\".\n",
        "# Esse objeto é sua interface para enviar comandos SQL ao BD.\n",
        "cursor = conn.cursor()\n",
        "\n",
        "# Cria a tabela de clientes\n",
        "cursor.execute('''\n",
        "CREATE TABLE IF NOT EXISTS clientes (\n",
        "id INTEGER PRIMARY KEY AUTOINCREMENT,\n",
        "nome TEXT NOT NULL,\n",
        "email TEXT NOT NULL UNIQUE\n",
        ")\n",
        "''')\n",
        "\n",
        "# Confirma as mudanças\n",
        "conn.commit()\n",
        "\n",
        "# Fecha a conexão\n",
        "conn.close()\n",
        "\n",
        "# Confirma execução do bloco de código\n",
        "print(\"Executado com sucesso!\")"
      ],
      "metadata": {
        "colab": {
          "base_uri": "https://localhost:8080/"
        },
        "id": "57VC062W5vz9",
        "outputId": "4cd38476-7eb4-4dec-dfad-d541d1f45418"
      },
      "execution_count": 1,
      "outputs": [
        {
          "output_type": "stream",
          "name": "stdout",
          "text": [
            "Executado com sucesso!\n"
          ]
        }
      ]
    },
    {
      "cell_type": "code",
      "source": [
        "# Importa biblioteca para acessar funcionalidades do sistema operacional,\n",
        "# por exemplo, a manipulação de arquivos.\n",
        "import os\n",
        "\n",
        "# Verificar se o arquivo do banco de dados foi criado\n",
        "if os.path.exists('clientes.db'):\n",
        "  print(\"Banco de dados criado com sucesso!\")\n",
        "else:\n",
        "  print(\"Erro ao criar o banco de dados.\")"
      ],
      "metadata": {
        "colab": {
          "base_uri": "https://localhost:8080/"
        },
        "id": "zSnUditQ6XtU",
        "outputId": "88d883b0-58b1-490f-abe4-7ca29cce38ae"
      },
      "execution_count": 4,
      "outputs": [
        {
          "output_type": "stream",
          "name": "stdout",
          "text": [
            "Banco de dados criado com sucesso!\n"
          ]
        }
      ]
    },
    {
      "cell_type": "code",
      "source": [
        "# Define uma função que adiciona cliente ao BD\n",
        "# Recebe 'nome' e 'email' como parâmetros.\n",
        "\n",
        "def adicionar_cliente(nome, email):\n",
        "    # Conecta ao BD ou cria um novo se não existir.\n",
        "    conn = sqlite3.connect('clientes.db')\n",
        "    # Cria o \"cursor\" para executar comandos SQL.\n",
        "    cursor = conn.cursor()\n",
        "    # Executa comando SQL para inserir dados na tabela.\n",
        "    cursor.execute('''\n",
        "    INSERT INTO clientes (nome, email) VALUES (?, ?)\n",
        "    ''', (nome, email))\n",
        "    # Salva as mudanças feitas no BD.\n",
        "    conn.commit()\n",
        "    # Fecha a conexão para liberar os recursos.\n",
        "    conn.close()\n",
        "\n",
        "# Exemplo de uso\n",
        "# Chama a função para adicionar novo cliente com nome e email específicos.\n",
        "adicionar_cliente('Nikolas', 'nikolas@example.com')\n",
        "\n",
        "# Confirma a execução do bloco de código\n",
        "# Imprime mensagem ao usuário sobre conclusão da operação.\n",
        "print(\"Executado com sucesso!\")\n",
        "\n",
        "# SE HOUVER ERRO: \"DatabaseError: database disk image is malformed\"\n",
        "# SOLUÇÃO: delete o arquivo clientes.db e execute tudo desde o início.\n"
      ],
      "metadata": {
        "colab": {
          "base_uri": "https://localhost:8080/"
        },
        "id": "tuOMxwKW7HGP",
        "outputId": "3f0616df-906f-48a3-df4c-1f6668288b47"
      },
      "execution_count": 5,
      "outputs": [
        {
          "output_type": "stream",
          "name": "stdout",
          "text": [
            "Executado com sucesso!\n"
          ]
        }
      ]
    },
    {
      "cell_type": "code",
      "source": [
        "# Define função para buscar e retornar todos os clientes do BD.\n",
        "def listar_clientes():\n",
        "    # Conecta ao BD 'clientes.db'.\n",
        "    conn = sqlite3.connect('clientes.db')\n",
        "\n",
        "    # Cria um cursor para executar comandos SQL.\n",
        "    cursor = conn.cursor()\n",
        "\n",
        "    # Executa comando SQL para selecionar todas as linhas da tabela 'clientes'.\n",
        "    cursor.execute('SELECT * FROM clientes')\n",
        "\n",
        "    # Busca todos os resultados da consulta e os armazena na variável 'clientes'.\n",
        "    clientes = cursor.fetchall()\n",
        "\n",
        "    # Fecha a conexão com o banco de dados.\n",
        "    conn.close()\n",
        "\n",
        "    # Retorna a lista de clientes encontrados.\n",
        "    return clientes\n",
        "\n",
        "# Exemplo de uso\n",
        "# Chama a função para obter a lista de clientes.\n",
        "clientes = listar_clientes()\n",
        "\n",
        "# Percorre a lista e imprime cada cliente.\n",
        "for cliente in clientes:\n",
        "    print(cliente)\n"
      ],
      "metadata": {
        "colab": {
          "base_uri": "https://localhost:8080/"
        },
        "id": "Bf_lY7YX7SaT",
        "outputId": "7c910d65-cfab-41e2-c75d-38ec87bd543f"
      },
      "execution_count": 6,
      "outputs": [
        {
          "output_type": "stream",
          "name": "stdout",
          "text": [
            "(1, 'Nikolas', 'nikolas@example.com')\n"
          ]
        }
      ]
    },
    {
      "cell_type": "code",
      "source": [
        "#Define função para \"limpar\" formulário, resetando os campos.\n",
        "# A função não recebe parâmetros, só retorna novo dicionário.\n",
        "def limpar_formulario():\n",
        "    # Retorna dicionário com as chaves 'nome' e 'email' e valores vazios.\n",
        "    return {'nome': '', 'email': ''}\n",
        "\n",
        "# Exemplo de uso\n",
        "# Cria dicionário que simula formulário preenchido.\n",
        "formulario = {'nome': 'João', 'email': 'joao@example.com'}\n",
        "print(\"Antes de limpar:\", formulario)\n",
        "\n",
        "# Chama função para obter o formulário limpo e atribui o resultado\n",
        "# à variável 'formulario', sobrescrevendo o valor anterior com campos vazios.\n",
        "formulario = limpar_formulario()\n",
        "print(\"Depois de limpar:\", formulario)"
      ],
      "metadata": {
        "colab": {
          "base_uri": "https://localhost:8080/"
        },
        "id": "78P4Copq7cjN",
        "outputId": "7a763f1b-4219-4a95-9a0d-a8efbc90c25d"
      },
      "execution_count": 8,
      "outputs": [
        {
          "output_type": "stream",
          "name": "stdout",
          "text": [
            "Antes de limpar: {'nome': 'João', 'email': 'joao@example.com'}\n",
            "Depois de limpar: {'nome': '', 'email': ''}\n"
          ]
        }
      ]
    }
  ]
}